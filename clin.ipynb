{
  "nbformat": 4,
  "nbformat_minor": 0,
  "metadata": {
    "colab": {
      "name": "clin.ipynb",
      "provenance": [],
      "collapsed_sections": [],
      "authorship_tag": "ABX9TyOA1dnnjHP8aotlXs6klokF",
      "include_colab_link": true
    },
    "kernelspec": {
      "name": "python3",
      "display_name": "Python 3"
    },
    "language_info": {
      "name": "python"
    }
  },
  "cells": [
    {
      "cell_type": "markdown",
      "metadata": {
        "id": "view-in-github",
        "colab_type": "text"
      },
      "source": [
        "<a href=\"https://colab.research.google.com/github/ImagingDataCommons/ETL/blob/gw-sprint29/clin.ipynb\" target=\"_parent\"><img src=\"https://colab.research.google.com/assets/colab-badge.svg\" alt=\"Open In Colab\"/></a>"
      ]
    },
    {
      "cell_type": "markdown",
      "source": [
        "Get the scrapped clinical files, clinical note file"
      ],
      "metadata": {
        "id": "9M5iiqfMfle4"
      }
    },
    {
      "cell_type": "code",
      "source": [
        "!git clone --branch gw https://github.com/fedorov/actcianable"
      ],
      "metadata": {
        "colab": {
          "base_uri": "https://localhost:8080/"
        },
        "id": "6ShqVMSWdNtq",
        "outputId": "a246de11-f5af-4c4b-d287-b693de3fb2e2"
      },
      "execution_count": 1,
      "outputs": [
        {
          "output_type": "stream",
          "name": "stdout",
          "text": [
            "Cloning into 'actcianable'...\n",
            "remote: Enumerating objects: 3392, done.\u001b[K\n",
            "remote: Counting objects: 100% (2523/2523), done.\u001b[K\n",
            "remote: Compressing objects: 100% (1439/1439), done.\u001b[K\n",
            "remote: Total 3392 (delta 1171), reused 2316 (delta 1040), pack-reused 869\u001b[K\n",
            "Receiving objects: 100% (3392/3392), 176.58 MiB | 22.24 MiB/s, done.\n",
            "Resolving deltas: 100% (1621/1621), done.\n"
          ]
        }
      ]
    },
    {
      "cell_type": "markdown",
      "source": [
        "Get the ETL code to format the clinical files into json files, and create the BigQuery tables"
      ],
      "metadata": {
        "id": "mI5ClXX2f1at"
      }
    },
    {
      "cell_type": "code",
      "source": [
        "!git clone --branch gw-sprint29 https://github.com/ImagingDataCommons/ETL.git"
      ],
      "metadata": {
        "colab": {
          "base_uri": "https://localhost:8080/"
        },
        "id": "_HEkmtHYgFXS",
        "outputId": "5bbc89ca-b84c-45fb-8002-0640bd531673"
      },
      "execution_count": 2,
      "outputs": [
        {
          "output_type": "stream",
          "name": "stdout",
          "text": [
            "Cloning into 'ETL'...\n",
            "remote: Enumerating objects: 451, done.\u001b[K\n",
            "remote: Counting objects: 100% (451/451), done.\u001b[K\n",
            "remote: Compressing objects: 100% (260/260), done.\u001b[K\n",
            "remote: Total 451 (delta 245), reused 370 (delta 174), pack-reused 0\u001b[K\n",
            "Receiving objects: 100% (451/451), 3.41 MiB | 32.30 MiB/s, done.\n",
            "Resolving deltas: 100% (245/245), done.\n"
          ]
        }
      ]
    },
    {
      "cell_type": "markdown",
      "source": [
        "Get required packages. Restart runtime right after. No need to rerun cells above "
      ],
      "metadata": {
        "id": "lYIGp0wvm1xl"
      }
    },
    {
      "cell_type": "code",
      "source": [
        "%cd ETL/clinical\n",
        "!pip3 install -r requirements.txt"
      ],
      "metadata": {
        "colab": {
          "base_uri": "https://localhost:8080/",
          "height": 836
        },
        "id": "yGX8j6w_gDo4",
        "outputId": "1a8e0a90-208c-4176-a47a-ac407e092c3e"
      },
      "execution_count": 3,
      "outputs": [
        {
          "output_type": "stream",
          "name": "stdout",
          "text": [
            "/content/ETL/clinical\n",
            "Requirement already satisfied: et-xmlfile==1.1.0 in /usr/local/lib/python3.7/dist-packages (from -r requirements.txt (line 1)) (1.1.0)\n",
            "Collecting numpy==1.21.5\n",
            "  Downloading numpy-1.21.5-cp37-cp37m-manylinux_2_12_x86_64.manylinux2010_x86_64.whl (15.7 MB)\n",
            "\u001b[K     |████████████████████████████████| 15.7 MB 21.2 MB/s \n",
            "\u001b[?25hRequirement already satisfied: openpyxl==3.0.9 in /usr/local/lib/python3.7/dist-packages (from -r requirements.txt (line 3)) (3.0.9)\n",
            "Requirement already satisfied: pandas==1.3.5 in /usr/local/lib/python3.7/dist-packages (from -r requirements.txt (line 4)) (1.3.5)\n",
            "Requirement already satisfied: python-dateutil==2.8.2 in /usr/local/lib/python3.7/dist-packages (from -r requirements.txt (line 5)) (2.8.2)\n",
            "Collecting pytz==2021.3\n",
            "  Downloading pytz-2021.3-py2.py3-none-any.whl (503 kB)\n",
            "\u001b[K     |████████████████████████████████| 503 kB 65.2 MB/s \n",
            "\u001b[?25hCollecting pyxlsb==1.0.9\n",
            "  Downloading pyxlsb-1.0.9-py2.py3-none-any.whl (23 kB)\n",
            "Collecting six==1.16.0\n",
            "  Downloading six-1.16.0-py2.py3-none-any.whl (11 kB)\n",
            "Collecting xlrd==2.0.1\n",
            "  Downloading xlrd-2.0.1-py2.py3-none-any.whl (96 kB)\n",
            "\u001b[K     |████████████████████████████████| 96 kB 4.1 MB/s \n",
            "\u001b[?25hInstalling collected packages: six, pytz, numpy, xlrd, pyxlsb\n",
            "  Attempting uninstall: six\n",
            "    Found existing installation: six 1.15.0\n",
            "    Uninstalling six-1.15.0:\n",
            "      Successfully uninstalled six-1.15.0\n",
            "  Attempting uninstall: pytz\n",
            "    Found existing installation: pytz 2018.9\n",
            "    Uninstalling pytz-2018.9:\n",
            "      Successfully uninstalled pytz-2018.9\n",
            "  Attempting uninstall: numpy\n",
            "    Found existing installation: numpy 1.19.5\n",
            "    Uninstalling numpy-1.19.5:\n",
            "      Successfully uninstalled numpy-1.19.5\n",
            "  Attempting uninstall: xlrd\n",
            "    Found existing installation: xlrd 1.1.0\n",
            "    Uninstalling xlrd-1.1.0:\n",
            "      Successfully uninstalled xlrd-1.1.0\n",
            "\u001b[31mERROR: pip's dependency resolver does not currently take into account all the packages that are installed. This behaviour is the source of the following dependency conflicts.\n",
            "yellowbrick 1.3.post1 requires numpy<1.20,>=1.16.0, but you have numpy 1.21.5 which is incompatible.\n",
            "google-colab 1.0.0 requires six~=1.15.0, but you have six 1.16.0 which is incompatible.\n",
            "datascience 0.10.6 requires folium==0.2.1, but you have folium 0.8.3 which is incompatible.\n",
            "albumentations 0.1.12 requires imgaug<0.2.7,>=0.2.5, but you have imgaug 0.2.9 which is incompatible.\u001b[0m\n",
            "Successfully installed numpy-1.21.5 pytz-2021.3 pyxlsb-1.0.9 six-1.16.0 xlrd-2.0.1\n"
          ]
        },
        {
          "output_type": "display_data",
          "data": {
            "application/vnd.colab-display-data+json": {
              "pip_warning": {
                "packages": [
                  "numpy",
                  "pytz",
                  "six"
                ]
              }
            }
          },
          "metadata": {}
        }
      ]
    },
    {
      "cell_type": "markdown",
      "source": [
        "Parse the scrapped the Excel files loaded from the github into Json files "
      ],
      "metadata": {
        "id": "vVOipSUzpN6D"
      }
    },
    {
      "cell_type": "code",
      "source": [
        "%cd ETL/clinical/\n",
        "!mkdir clin\n",
        "!python3 parse_clinical_files.py /content/actcianable/output/"
      ],
      "metadata": {
        "id": "mp_lZ8gHnA4B",
        "colab": {
          "base_uri": "https://localhost:8080/"
        },
        "outputId": "b6e4d527-b101-434a-d498-9121e108a222"
      },
      "execution_count": 1,
      "outputs": [
        {
          "output_type": "stream",
          "name": "stdout",
          "text": [
            "/content/ETL/clinical\n",
            "strcInfo {'filenm': 'TCIA Breast clinical data public 7_16_11.xlsx', 'sheet': 0, 'headrows': [0, 1], 'pivot': True}\n",
            "/usr/local/lib/python3.7/dist-packages/openpyxl/worksheet/_reader.py:312: UserWarning: Unknown extension is not supported and will be removed\n",
            "  warn(msg)\n",
            "strcInfo {'filenm': 'SharedClinicalAndRFS.xls', 'sheet': 1, 'patientIdRow': 1, 'maxRow': 64, 'skipCols': [37, 38]}\n",
            "strcInfo {'filenm': 'C4KC KiTS_Clinical Data_Version 1.csv', 'sheet': 0}\n",
            "strcInfo {'filenm': 'COVID-19 AR Clinical Correlates July202020.xlsx', 'sheet': 0, 'headrows': [1]}\n",
            "strcInfo {'filenm': 'COVID-19 AR Clinical Correlates July202020.xlsx', 'sheet': 1, 'headrows': [1]}\n",
            "strcInfo {'filenm': 'deidentified_overlap_tcia.csv.cleaned.csv_20210806.csv', 'sheet': 0}\n",
            "strcInfo {'filenm': 'clinicalapi-cptac.esacinc.com_api_tcia_clinical_data_tumor_code_AML', 'type': 'json'}\n",
            "strcInfo {'filenm': 'clinicalapi-cptac.esacinc.com_api_tcia_clinical_data_tumor_code_CM', 'type': 'json'}\n",
            "strcInfo {'filenm': 'Patient and Treatment Characteristics.xls', 'sheet': 0, 'skipCols': [3]}\n",
            "strcInfo {'filenm': 'HNSCC Clinical Data.csv'}\n",
            "Different patientColumn! HNSCC\n",
            "strcInfo {'filenm': 'MDPA Patient Data Final - Accepted.xlsb', 'sheet': 0, 'headrows': [0, 1]}\n",
            "strcInfo {'filenm': 'MDPA Patient Data Final - Accepted.xlsb', 'sheet': 1}\n",
            "strcInfo {'filenm': 'MDPA Patient Data Final - Accepted.xlsb', 'sheet': 4}\n",
            "strcInfo {'filenm': 'MDPA Patient Data Final - Accepted.xlsb', 'sheet': 5}\n",
            "strcInfo {'filenm': 'MDPA Patient Data Final - Accepted.xlsb', 'sheet': 6}\n",
            "strcInfo {'filenm': 'MDPA Patient Data Final - Accepted.xlsb', 'sheet': 7}\n",
            "strcInfo {'filenm': 'Copy of HEAD-NECK-RADIOMICS-HN1 Clinical data updated July 2020.csv'}\n",
            "strcInfo {'filenm': 'I-SPY 1 All Patient Clinical and Outcome Data.xlsx', 'sheet': 1}\n",
            "strcInfo {'filenm': 'I-SPY 1 All Patient Clinical and Outcome Data.xlsx', 'sheet': 3}\n",
            "strcInfo {'filenm': 'Clinical Reports V2/CR_Abdomen_v2/Abdomen_v5.xlsx', 'headrows': [1]}\n",
            "strcInfo {'filenm': 'Lung Fused-CT-Pathology spreadsheet.xlsx', 'sheet': 0, 'headrows': [1]}\n",
            "strcInfo {'filenm': 'statistics-clinical-20201221.xlsx', 'sheet': 0, 'patientIdRow': 1}\n",
            "strcInfo {'filenm': 'MIDRC-RICORD-1a Clinical Data Jan 13 2021.xlsx', 'sheet': 0}\n",
            "strcInfo {'filenm': 'MIDRC-RICORD-1b Clinical Data Feb 2021.xlsx', 'sheet': 0}\n",
            "strcInfo {'filenm': 'MIDRC-RICORD-1c Clinical Data Jan 13 2021 .xlsx', 'sheet': 0}\n",
            "strcInfo {'filenm': 'NSCLCR01Radiogenomic_DATA_LABELS_2018-05-22_1500-shifted.csv', 'sheet': 0}\n",
            "strcInfo {'filenm': 'NSCLC Radiomics Lung1.clinical-version3-Oct 2019.csv', 'sheet': 0}\n",
            "strcInfo {'filenm': 'Lung3.metadata.xls', 'sheet': 0}\n",
            "strcInfo {'filenm': 'Interobserver1.clinical_updated_released_2019-June-17.csv'}\n",
            "strcInfo {'filenm': 'Clinical data list_OPC (606) v3.xlsx', 'sheet': 0, 'headrows': [0], 'skipRows': [1]}\n",
            "strcInfo {'filenm': 'Final patient_list.xlsx', 'sheet': 0, 'patientIdRow': 1, 'skipRows': [1], 'skipCols': [5]}\n",
            "strcInfo {'filenm': 'Final CA125 data.xlsx', 'sheet': 0, 'patientIdRow': 1, 'reindex': {'needed': True, 'uniques': [2, 4, 5]}}\n",
            "strcInfo {'filenm': 'Final CA125 data.xlsx', 'sheet': 1, 'patientIdRow': 1, 'reindex': {'needed': True, 'uniques': [2, 4, 5]}}\n",
            "could not concate! Ovarian Bevacizumab Response\n",
            "strcInfo {'filenm': 'ProstateDiagnosis_metadata-05-07-2012.xlsx', 'sheet': 0, 'pivot': True}\n",
            "strcInfo {'filenm': 'QIN-BREAST-02_clinicalData-Transformed-20191022-Revised20200210.xlsx', 'sheet': 0, 'headrows': [0, 1]}\n",
            "strcInfo {'filenm': 'Batch_01 and Batch_02 Clinical Data_aug242020.xlsx', 'sheet': 0, 'headrows': [0, 1]}\n",
            "strcInfo {'filenm': 'Batch_01 and Batch_02 Clinical Data_aug242020.xlsx', 'sheet': 1, 'headrows': [0, 1]}\n",
            "Different patientColumn! QIN-HeadNeck\n",
            "strcInfo {'filenm': 'clinical_2014-01-16.xlsx', 'sheet': 0}\n",
            "strcInfo {'filenm': 'INFOclinical_STS.xlsx', 'sheet': 0}\n",
            "strcInfo {'filenm': 'INFOclinical_STS.xlsx', 'sheet': 1}\n"
          ]
        }
      ]
    },
    {
      "cell_type": "markdown",
      "source": [
        "Authenticate with an account that has access to the desired Google Cloud project to host the BigQuery Tables"
      ],
      "metadata": {
        "id": "O0ev-fU_7un8"
      }
    },
    {
      "cell_type": "code",
      "source": [
        "from google.colab import auth\n",
        "auth.authenticate_user()"
      ],
      "metadata": {
        "id": "8i40DTX_6xZE"
      },
      "execution_count": 3,
      "outputs": []
    },
    {
      "cell_type": "markdown",
      "source": [
        "Create a new dataset in BigQuery and populuate it with the clinical data in the Json files created above. A separate table is created for each collection. The table clinical_meta summarizes the data stored across all collections. The two arguments in the script below are the Google Cloud project and the dataset. If the dataset already exists then it is first deleted. "
      ],
      "metadata": {
        "id": "rygJKuqspLV5"
      }
    },
    {
      "cell_type": "code",
      "source": [
        "!python3 bq_export.py idc-dev-etl clinical2"
      ],
      "metadata": {
        "colab": {
          "base_uri": "https://localhost:8080/"
        },
        "id": "rtID8_QjttZb",
        "outputId": "2368e0d3-9bee-4301-f11a-ffa7eccd658e"
      },
      "execution_count": 4,
      "outputs": [
        {
          "output_type": "stream",
          "name": "stdout",
          "text": [
            "<google.cloud.bigquery.job.LoadJob object at 0x7f156918e790>\n",
            "<google.cloud.bigquery.job.LoadJob object at 0x7f1569193c10>\n",
            "<google.cloud.bigquery.job.LoadJob object at 0x7f1569a19d10>\n",
            "<google.cloud.bigquery.job.LoadJob object at 0x7f156919d6d0>\n",
            "<google.cloud.bigquery.job.LoadJob object at 0x7f1569189a10>\n",
            "<google.cloud.bigquery.job.LoadJob object at 0x7f1569347fd0>\n",
            "<google.cloud.bigquery.job.LoadJob object at 0x7f156917f550>\n",
            "<google.cloud.bigquery.job.LoadJob object at 0x7f1569163d50>\n",
            "<google.cloud.bigquery.job.LoadJob object at 0x7f1569160350>\n",
            "<google.cloud.bigquery.job.LoadJob object at 0x7f156915cc50>\n",
            "<google.cloud.bigquery.job.LoadJob object at 0x7f156916f9d0>\n",
            "<google.cloud.bigquery.job.LoadJob object at 0x7f156917f510>\n",
            "<google.cloud.bigquery.job.LoadJob object at 0x7f1569347150>\n",
            "<google.cloud.bigquery.job.LoadJob object at 0x7f1569c61d50>\n",
            "<google.cloud.bigquery.job.LoadJob object at 0x7f1569a23f10>\n",
            "<google.cloud.bigquery.job.LoadJob object at 0x7f1569c57790>\n",
            "<google.cloud.bigquery.job.LoadJob object at 0x7f1569163890>\n",
            "<google.cloud.bigquery.job.LoadJob object at 0x7f1569160a90>\n",
            "<google.cloud.bigquery.job.LoadJob object at 0x7f156915d050>\n",
            "<google.cloud.bigquery.job.LoadJob object at 0x7f1569a06850>\n",
            "<google.cloud.bigquery.job.LoadJob object at 0x7f156915c5d0>\n",
            "<google.cloud.bigquery.job.LoadJob object at 0x7f15691b4990>\n",
            "<google.cloud.bigquery.job.LoadJob object at 0x7f15692ab6d0>\n",
            "<google.cloud.bigquery.job.LoadJob object at 0x7f1569c61f90>\n",
            "<google.cloud.bigquery.job.LoadJob object at 0x7f1569a23890>\n",
            "<google.cloud.bigquery.job.LoadJob object at 0x7f1568b17ed0>\n",
            "<google.cloud.bigquery.job.LoadJob object at 0x7f1568b17210>\n"
          ]
        }
      ]
    }
  ]
}